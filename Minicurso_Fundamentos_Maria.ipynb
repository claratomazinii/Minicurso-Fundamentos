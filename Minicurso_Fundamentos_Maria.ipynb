{
  "nbformat": 4,
  "nbformat_minor": 0,
  "metadata": {
    "colab": {
      "provenance": [],
      "authorship_tag": "ABX9TyPOYKhIMarrpGRDxfPUlB/a",
      "include_colab_link": true
    },
    "kernelspec": {
      "name": "python3",
      "display_name": "Python 3"
    },
    "language_info": {
      "name": "python"
    }
  },
  "cells": [
    {
      "cell_type": "markdown",
      "metadata": {
        "id": "view-in-github",
        "colab_type": "text"
      },
      "source": [
        "<a href=\"https://colab.research.google.com/github/claratomazinii/Minicurso-Fundamentos/blob/main/Minicurso_Fundamentos_Maria.ipynb\" target=\"_parent\"><img src=\"https://colab.research.google.com/assets/colab-badge.svg\" alt=\"Open In Colab\"/></a>"
      ]
    },
    {
      "cell_type": "markdown",
      "source": [
        "# AULA 02\n",
        "\n",
        "## FUNÇÕES NATIVAS\n",
        "\n",
        "### `print()`\n",
        "- Função responsável por nos mostrar os resultados.\n",
        "- isso facilita para verificar se o que estamos fazendo está correto.\n",
        "- Não executa nada de fato, apenas nos mostra (visualmente) os resultados.\n",
        "\n",
        "### `type()`\n",
        "- Função responsável por indicar o tipo da função (ex: string, lista, etc.)\n",
        "- é interessante usar essa função dentro do print, pois vai nos mostrar certinho\n",
        "\n",
        "### `len()`\n",
        "- Função responsável por indicar quantidade de caracteres\n",
        "- mais usado em listas e strings\n",
        "- lista é tudo que está entre [colchetes]\n",
        "\n",
        "### `input()`\n",
        "- Responsável por passar ao programa algum tipo de dado; é uma forma de interação com o código\n",
        "- Então podemos considerar a entrada de informações\n",
        "- O retorno/resposta vai depender do que você indicar\n",
        "\n",
        "### `dir()`\n",
        "- Função responsável por apresentar todos os atributos e funções/métodos disponíveis para determinado tipo de dado ou variável\n",
        "- Podemos dizer que são funções \"pré-prontas\" que podemos usar\n",
        "- útil para explorar a estrutura de um objeto e descobrir quais operações podem ser realizadas com ele\n",
        "\n",
        "## MÉTODOS DE STRING\n",
        "\n",
        "### upper()\n",
        "### title()\n",
        "### strip()\n",
        "### split()\n",
        "### f string\n",
        "\n",
        "## ESTRUTURA DE REPETIÇÃO (LOOP)\n",
        "\n",
        "### For\n",
        "- Responsável por percorrer um bloco de código indicado pelo usuário\n",
        "\n",
        "### While\n",
        "- Responsável por\n",
        "\n",
        "## ESTRUTURA DO CÓDIGO\n",
        "### `Def`\n",
        "- O que define o início de uma função é o comando `def`\n",
        "- É recomendado que o script contenha vários blocos de funções separados, sendo cada um responsável por realizar uma parte do processo que estamos construindo\n",
        "\n",
        "### `return`\n",
        "- comando que indica o valor que a função deve retornar quando chamada\n",
        "- bastante confundido com o print, mas diferente desse, o return de fato executa algo e não apenas mostra o resultado\n",
        "- o return apresenta um resultado da função que você criou\n"
      ],
      "metadata": {
        "id": "fUeKO8XYZEMc"
      }
    }
  ]
}